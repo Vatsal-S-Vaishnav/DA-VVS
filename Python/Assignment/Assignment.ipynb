{
 "cells": [
  {
   "cell_type": "markdown",
   "metadata": {
    "id": "cFQ7BVnpcJmj"
   },
   "source": [
    "4) Python Program to Check if a Number is Positive, Negative, or Zero:\n",
    "python"
   ]
  },
  {
   "cell_type": "code",
   "execution_count": null,
   "metadata": {
    "colab": {
     "base_uri": "https://localhost:8080/"
    },
    "executionInfo": {
     "elapsed": 4188,
     "status": "ok",
     "timestamp": 1733932781591,
     "user": {
      "displayName": "shrinath patel",
      "userId": "09096090491142038205"
     },
     "user_tz": -330
    },
    "id": "GfhL57qOcPCo",
    "outputId": "adee5b07-b716-45f8-c42a-0932f641a1fa"
   },
   "outputs": [
    {
     "name": "stdout",
     "output_type": "stream",
     "text": [
      "Enter number23\n",
      "mumber is positive\n"
     ]
    }
   ],
   "source": [
    "num= int(input(\"Enter number\"))\n",
    "\n",
    "if num>0:\n",
    "    print(\"mumber is positive\")\n",
    "elif num<0:\n",
    "    print(\"number is negative\")\n",
    "else:\n",
    "    print(\"number is zero\")"
   ]
  },
  {
   "cell_type": "code",
   "execution_count": null,
   "metadata": {
    "colab": {
     "base_uri": "https://localhost:8080/"
    },
    "executionInfo": {
     "elapsed": 2980,
     "status": "ok",
     "timestamp": 1733933449372,
     "user": {
      "displayName": "shrinath patel",
      "userId": "09096090491142038205"
     },
     "user_tz": -330
    },
    "id": "tn-tDMT1cqQm",
    "outputId": "aacf3f9c-507b-489c-c0b3-f1b14e50462e"
   },
   "outputs": [
    {
     "name": "stdout",
     "output_type": "stream",
     "text": [
      "Enter number5\n",
      "The factorial of 5 is 120\n"
     ]
    }
   ],
   "source": [
    "## 5) Python Program to Get the Factorial of a Given Number:\n",
    "factorial=1\n",
    "num=int(input(\"Enter number\"))\n",
    "if num<0:\n",
    "    print(\"factorial does not exist\")\n",
    "elif num==0:\n",
    "    print(\"The factorial of 0 is 1\")\n",
    "else:\n",
    "   for i in range (1,num+1):\n",
    "      factorial*=i\n",
    "   print(\"The factorial of\",num,\"is\",factorial)\n"
   ]
  },
  {
   "cell_type": "code",
   "execution_count": null,
   "metadata": {
    "colab": {
     "base_uri": "https://localhost:8080/"
    },
    "executionInfo": {
     "elapsed": 2541,
     "status": "ok",
     "timestamp": 1733934761212,
     "user": {
      "displayName": "shrinath patel",
      "userId": "09096090491142038205"
     },
     "user_tz": -330
    },
    "id": "bYhDpnTWf4Hp",
    "outputId": "44cf56a0-e2a7-4558-8737-4a9d5a5a3a22"
   },
   "outputs": [
    {
     "name": "stdout",
     "output_type": "stream",
     "text": [
      "Enter number7\n",
      "0 1 1 2 3 5 8 "
     ]
    }
   ],
   "source": [
    "##6) Python Program to Get the Fibonacci Series of a Given Range:\n",
    "\n",
    "num=int(input(\"Enter number\"))\n",
    "a,b=0,1\n",
    "i=0\n",
    "if num<0:\n",
    "    print(\"incorrect input\")\n",
    "elif num==1:\n",
    "    print(a)\n",
    "else:\n",
    "    for i in range(num):\n",
    "        print(a,end=\" \")\n",
    "        c=a+b\n",
    "        a,b=b,c"
   ]
  },
  {
   "cell_type": "code",
   "execution_count": null,
   "metadata": {
    "colab": {
     "base_uri": "https://localhost:8080/"
    },
    "executionInfo": {
     "elapsed": 4004,
     "status": "ok",
     "timestamp": 1733935296613,
     "user": {
      "displayName": "shrinath patel",
      "userId": "09096090491142038205"
     },
     "user_tz": -330
    },
    "id": "uc-kPrO0k0ru",
    "outputId": "d0a6a307-0724-4907-cea8-b0f2eedc99b1"
   },
   "outputs": [
    {
     "name": "stdout",
     "output_type": "stream",
     "text": [
      "Enter number2\n",
      "Enter number3\n",
      "After Swapping\n",
      "a= 3\n",
      "b= 2\n"
     ]
    }
   ],
   "source": [
    "## 9) Python Program to Swap Two Numbers with and Without a Temporary Variable:\n",
    "\n",
    "a=int(input(\"Enter number\"))\n",
    "b=int(input(\"Enter number\"))\n",
    "\n",
    "a,b=b,a\n",
    "\n",
    "print(\"After Swapping\")\n",
    "print(\"a=\",a)\n",
    "print(\"b=\",b)"
   ]
  },
  {
   "cell_type": "code",
   "execution_count": null,
   "metadata": {
    "colab": {
     "base_uri": "https://localhost:8080/"
    },
    "executionInfo": {
     "elapsed": 2623,
     "status": "ok",
     "timestamp": 1733935353737,
     "user": {
      "displayName": "shrinath patel",
      "userId": "09096090491142038205"
     },
     "user_tz": -330
    },
    "id": "j6AvHdM-mXfD",
    "outputId": "7aee3d63-0806-46e5-b7d7-28268158c916"
   },
   "outputs": [
    {
     "name": "stdout",
     "output_type": "stream",
     "text": [
      "Enter number5\n",
      "number is odd\n"
     ]
    }
   ],
   "source": [
    "## 10) Python Program to Find Whether a Given Number is Even or Odd:\n",
    "\n",
    "num=int(input(\"Enter number\"))\n",
    "\n",
    "if num%2==0:\n",
    "    print(\"number is even\")\n",
    "else:\n",
    "    print(\"number is odd\")"
   ]
  },
  {
   "cell_type": "code",
   "execution_count": null,
   "metadata": {
    "colab": {
     "base_uri": "https://localhost:8080/"
    },
    "executionInfo": {
     "elapsed": 4793,
     "status": "ok",
     "timestamp": 1734004440264,
     "user": {
      "displayName": "shrinath patel",
      "userId": "09096090491142038205"
     },
     "user_tz": -330
    },
    "id": "lZJWrsOxtiiJ",
    "outputId": "4b03b836-7d0f-48bd-e781-6b2f2d3068ad"
   },
   "outputs": [
    {
     "name": "stdout",
     "output_type": "stream",
     "text": [
      "Enter alphabeta\n",
      "vowel\n"
     ]
    }
   ],
   "source": [
    "## 11) Write a Python program to test whether a passed letter is a vowel or not.\n",
    "\n",
    "a=input(\"Enter alphabet\")\n",
    "\n",
    "if a in ('a','e','i','o','u'):\n",
    "    print(\"vowel\")\n",
    "else:\n",
    "    print(\"not vowel\")"
   ]
  },
  {
   "cell_type": "code",
   "execution_count": null,
   "metadata": {
    "colab": {
     "base_uri": "https://localhost:8080/"
    },
    "executionInfo": {
     "elapsed": 5036,
     "status": "ok",
     "timestamp": 1734005068036,
     "user": {
      "displayName": "shrinath patel",
      "userId": "09096090491142038205"
     },
     "user_tz": -330
    },
    "id": "QiHdELA4uAvz",
    "outputId": "103c9e31-28f8-44f2-893a-a824ceb4df9d"
   },
   "outputs": [
    {
     "name": "stdout",
     "output_type": "stream",
     "text": [
      "Enter number2\n",
      "Enter number4\n",
      "Enter number6\n",
      "sum is: 12\n"
     ]
    }
   ],
   "source": [
    "## 12) Write a Python program to sum of three given integers. However, if two values are equal sum will be zero.\n",
    "i1=int(input(\"Enter number\"))\n",
    "i2=int(input(\"Enter number\"))\n",
    "i3=int(input(\"Enter number\"))\n",
    "\n",
    "if i1==i2 or i2==i3 or i1==i3:\n",
    "    print(\"sum is zero\")\n",
    "else:\n",
    "    print(\"sum is:\",i1+i2+i3)\n"
   ]
  },
  {
   "cell_type": "code",
   "execution_count": null,
   "metadata": {
    "colab": {
     "base_uri": "https://localhost:8080/"
    },
    "executionInfo": {
     "elapsed": 6506,
     "status": "ok",
     "timestamp": 1734006943780,
     "user": {
      "displayName": "shrinath patel",
      "userId": "09096090491142038205"
     },
     "user_tz": -330
    },
    "id": "SPRB9gBQwb8C",
    "outputId": "a379f1e2-6382-4176-f8f9-f6fb9a65c73c"
   },
   "outputs": [
    {
     "name": "stdout",
     "output_type": "stream",
     "text": [
      "Enter number2\n",
      "Enter number7\n",
      "true\n"
     ]
    }
   ],
   "source": [
    "## 13) Write a Python program that will return true if the two given integer values are equal or their sum or difference is 5.\n",
    "\n",
    "a=int(input(\"Enter number\"))\n",
    "b=int(input(\"Enter number\"))\n",
    "\n",
    "if a == b or a + b == 5 or abs(a - b) == 5:\n",
    "    print(\"true\")\n",
    "else:\n",
    "    print(\"false\")"
   ]
  },
  {
   "cell_type": "code",
   "execution_count": null,
   "metadata": {
    "colab": {
     "base_uri": "https://localhost:8080/"
    },
    "executionInfo": {
     "elapsed": 2461,
     "status": "ok",
     "timestamp": 1734007117968,
     "user": {
      "displayName": "shrinath patel",
      "userId": "09096090491142038205"
     },
     "user_tz": -330
    },
    "id": "5veG3rD73q-f",
    "outputId": "a86cd22e-e0b1-4492-82c7-677a13186404"
   },
   "outputs": [
    {
     "name": "stdout",
     "output_type": "stream",
     "text": [
      "Enter number5\n",
      "sum is: 15\n"
     ]
    }
   ],
   "source": [
    "## 14) Python Program to Sum of the First N Positive Integers:\n",
    "\n",
    "n=int(input(\"Enter number\"))\n",
    "sum=0\n",
    "for i in range(1,n+1):\n",
    "    sum+=i\n",
    "print(\"sum is:\",sum)"
   ]
  },
  {
   "cell_type": "code",
   "execution_count": null,
   "metadata": {
    "id": "O4EwW2Gi7_H3"
   },
   "outputs": [],
   "source": []
  },
  {
   "cell_type": "code",
   "execution_count": null,
   "metadata": {
    "colab": {
     "base_uri": "https://localhost:8080/",
     "height": 211
    },
    "executionInfo": {
     "elapsed": 3049,
     "status": "error",
     "timestamp": 1734008172518,
     "user": {
      "displayName": "shrinath patel",
      "userId": "09096090491142038205"
     },
     "user_tz": -330
    },
    "id": "hEK6-BKV6PwF",
    "outputId": "4af7f1d5-69f2-4e07-bebd-6005ef2fa9c3"
   },
   "outputs": [
    {
     "name": "stdout",
     "output_type": "stream",
     "text": [
      "length of string is: 3\n"
     ]
    }
   ],
   "source": [
    "## 15) Python Program to Calculate the Length of a String:\n",
    "\n",
    "a=input(\"Enter string\")\n",
    "b= len(a)\n",
    "print(\"length of string is:\",b)"
   ]
  },
  {
   "cell_type": "code",
   "execution_count": null,
   "metadata": {
    "colab": {
     "base_uri": "https://localhost:8080/"
    },
    "executionInfo": {
     "elapsed": 2945,
     "status": "ok",
     "timestamp": 1734008285322,
     "user": {
      "displayName": "shrinath patel",
      "userId": "09096090491142038205"
     },
     "user_tz": -330
    },
    "id": "TLOu4dEf8J-M",
    "outputId": "e986f873-ea8c-450e-e5a4-3028b37d7503"
   },
   "outputs": [
    {
     "name": "stdout",
     "output_type": "stream",
     "text": [
      "Character: V, Frequency: 1\n",
      "Character: a, Frequency: 2\n",
      "Character: t, Frequency: 1\n",
      "Character: s, Frequency: 1\n",
      "Character: l, Frequency: 1\n"
     ]
    }
   ],
   "source": [
    "## 16) Python Program to Count the Number of Characters (Character Frequency) in a String:\n",
    "\n",
    "string = input(\"Enter a string: \")\n",
    "\n",
    "char_frequency = {}\n",
    "\n",
    "for char in string:\n",
    "    if char in char_frequency:\n",
    "        char_frequency[char] += 1\n",
    "    else:\n",
    "        char_frequency[char] = 1\n",
    "\n",
    "for char, count in char_frequency.items():\n",
    "    print(f\"Character: {char}, Frequency: {count}\")\n",
    "\n"
   ]
  },
  {
   "cell_type": "code",
   "execution_count": null,
   "metadata": {
    "colab": {
     "base_uri": "https://localhost:8080/"
    },
    "executionInfo": {
     "elapsed": 20088,
     "status": "ok",
     "timestamp": 1734008458624,
     "user": {
      "displayName": "shrinath patel",
      "userId": "09096090491142038205"
     },
     "user_tz": -330
    },
    "id": "ddgfjja48tna",
    "outputId": "14655536-1ac7-4c99-ff8c-a88219f0e524"
   },
   "outputs": [
    {
     "name": "stdout",
     "output_type": "stream",
     "text": [
      "Enter a string: the cat is smart\n",
      "Enter a substring to count occurrences: smart\n",
      "The substring 'smart' appears 1 times in the string.\n"
     ]
    }
   ],
   "source": [
    "## 18) Python Program to Count Occurrences of a Substring in a String:\n",
    "\n",
    "string = input(\"Enter a string: \")\n",
    "substring = input(\"Enter a substring to count occurrences: \")\n",
    "\n",
    "count = string.count(substring)\n",
    "print(f\"The substring '{substring}' appears {count} times in the string.\")"
   ]
  },
  {
   "cell_type": "code",
   "execution_count": null,
   "metadata": {
    "colab": {
     "base_uri": "https://localhost:8080/"
    },
    "executionInfo": {
     "elapsed": 7742,
     "status": "ok",
     "timestamp": 1734008558165,
     "user": {
      "displayName": "shrinath patel",
      "userId": "09096090491142038205"
     },
     "user_tz": -330
    },
    "id": "WJls4pT99X_5",
    "outputId": "55b4d2d8-d62f-4dae-eeeb-7630f15a0cde"
   },
   "outputs": [
    {
     "name": "stdout",
     "output_type": "stream",
     "text": [
      "Enter a string: asd dfkds fasda\n",
      "Word: 'asd', Frequency: 1\n",
      "Word: 'dfkds', Frequency: 1\n",
      "Word: 'fasda', Frequency: 1\n"
     ]
    }
   ],
   "source": [
    "## 19) Python Program to Count the Occurrences of Each Word in a String:\n",
    "\n",
    "string = input(\"Enter a string: \")\n",
    "\n",
    "words = string.split()\n",
    "\n",
    "word_frequency = {}\n",
    "\n",
    "for word in words:\n",
    "    if word in word_frequency:\n",
    "        word_frequency[word] += 1\n",
    "    else:\n",
    "        word_frequency[word] = 1\n",
    "\n",
    "for word, count in word_frequency.items():\n",
    "    print(f\"Word: '{word}', Frequency: {count}\")\n",
    "\n"
   ]
  },
  {
   "cell_type": "code",
   "execution_count": null,
   "metadata": {
    "colab": {
     "base_uri": "https://localhost:8080/"
    },
    "executionInfo": {
     "elapsed": 12065,
     "status": "ok",
     "timestamp": 1734008855659,
     "user": {
      "displayName": "shrinath patel",
      "userId": "09096090491142038205"
     },
     "user_tz": -330
    },
    "id": "2QFNctOF96Ck",
    "outputId": "12ff6a48-974c-4f33-9e97-fee2ff3bf279"
   },
   "outputs": [
    {
     "name": "stdout",
     "output_type": "stream",
     "text": [
      "Enter first string: car is black\n",
      "Enter second string: car is red\n",
      "Result: car is black car is red\n"
     ]
    }
   ],
   "source": [
    "## 20) Write a Python program to get a single string from two given strings, separated by a space and swap the first two characters of each string.\n",
    "\n",
    "def swap_strings(str1, str2):\n",
    "    str1 = str2[:2] + str1[2:]\n",
    "    str2 = str1[:2] + str2[2:]\n",
    "\n",
    "    return str1 + \" \" + str2\n",
    "\n",
    "str1 = input(\"Enter first string: \")\n",
    "str2 = input(\"Enter second string: \")\n",
    "\n",
    "result = swap_strings(str1, str2)\n",
    "print(\"Result:\", result)"
   ]
  },
  {
   "cell_type": "code",
   "execution_count": null,
   "metadata": {
    "id": "jRqD26mI_HUb"
   },
   "outputs": [],
   "source": []
  },
  {
   "cell_type": "code",
   "execution_count": null,
   "metadata": {
    "colab": {
     "base_uri": "https://localhost:8080/",
     "height": 315
    },
    "executionInfo": {
     "elapsed": 5164,
     "status": "error",
     "timestamp": 1734008968598,
     "user": {
      "displayName": "shrinath patel",
      "userId": "09096090491142038205"
     },
     "user_tz": -330
    },
    "id": "4NGdKBP7-52E",
    "outputId": "ab34a73b-89dd-4815-b4e4-8800c6bb9b06"
   },
   "outputs": [
    {
     "name": "stdout",
     "output_type": "stream",
     "text": [
      "Enter a string: nothing\n"
     ]
    },
    {
     "ename": "TypeError",
     "evalue": "'int' object is not callable",
     "output_type": "error",
     "traceback": [
      "\u001b[0;31m---------------------------------------------------------------------------\u001b[0m",
      "\u001b[0;31mTypeError\u001b[0m                                 Traceback (most recent call last)",
      "\u001b[0;32m<ipython-input-79-c286647a46de>\u001b[0m in \u001b[0;36m<cell line: 12>\u001b[0;34m()\u001b[0m\n\u001b[1;32m     10\u001b[0m \u001b[0;34m\u001b[0m\u001b[0m\n\u001b[1;32m     11\u001b[0m \u001b[0mstring\u001b[0m \u001b[0;34m=\u001b[0m \u001b[0minput\u001b[0m\u001b[0;34m(\u001b[0m\u001b[0;34m\"Enter a string: \"\u001b[0m\u001b[0;34m)\u001b[0m\u001b[0;34m\u001b[0m\u001b[0;34m\u001b[0m\u001b[0m\n\u001b[0;32m---> 12\u001b[0;31m \u001b[0mprint\u001b[0m\u001b[0;34m(\u001b[0m\u001b[0mmodify_string\u001b[0m\u001b[0;34m(\u001b[0m\u001b[0mstring\u001b[0m\u001b[0;34m)\u001b[0m\u001b[0;34m)\u001b[0m\u001b[0;34m\u001b[0m\u001b[0;34m\u001b[0m\u001b[0m\n\u001b[0m",
      "\u001b[0;32m<ipython-input-79-c286647a46de>\u001b[0m in \u001b[0;36mmodify_string\u001b[0;34m(s)\u001b[0m\n\u001b[1;32m      2\u001b[0m \u001b[0;34m\u001b[0m\u001b[0m\n\u001b[1;32m      3\u001b[0m \u001b[0;32mdef\u001b[0m \u001b[0mmodify_string\u001b[0m\u001b[0;34m(\u001b[0m\u001b[0ms\u001b[0m\u001b[0;34m)\u001b[0m\u001b[0;34m:\u001b[0m\u001b[0;34m\u001b[0m\u001b[0;34m\u001b[0m\u001b[0m\n\u001b[0;32m----> 4\u001b[0;31m     \u001b[0;32mif\u001b[0m \u001b[0mlen\u001b[0m\u001b[0;34m(\u001b[0m\u001b[0ms\u001b[0m\u001b[0;34m)\u001b[0m \u001b[0;34m>=\u001b[0m \u001b[0;36m3\u001b[0m\u001b[0;34m:\u001b[0m\u001b[0;34m\u001b[0m\u001b[0;34m\u001b[0m\u001b[0m\n\u001b[0m\u001b[1;32m      5\u001b[0m         \u001b[0;32mif\u001b[0m \u001b[0ms\u001b[0m\u001b[0;34m.\u001b[0m\u001b[0mendswith\u001b[0m\u001b[0;34m(\u001b[0m\u001b[0;34m\"ing\"\u001b[0m\u001b[0;34m)\u001b[0m\u001b[0;34m:\u001b[0m\u001b[0;34m\u001b[0m\u001b[0;34m\u001b[0m\u001b[0m\n\u001b[1;32m      6\u001b[0m             \u001b[0;32mreturn\u001b[0m \u001b[0ms\u001b[0m \u001b[0;34m+\u001b[0m \u001b[0;34m\"ly\"\u001b[0m\u001b[0;34m\u001b[0m\u001b[0;34m\u001b[0m\u001b[0m\n",
      "\u001b[0;31mTypeError\u001b[0m: 'int' object is not callable"
     ]
    }
   ],
   "source": [
    "## 21) Write a Python program to add 'in' at the end of a given string (length should be at least 3). If the given string already ends with 'ing', then add 'ly' instead. If the string length is less than 3, leave it unchanged.\n",
    "\n",
    "def modify_string(s):\n",
    "    if len(s) >= 3:\n",
    "        if s.endswith(\"ing\"):\n",
    "            return s + \"ly\"\n",
    "        else:\n",
    "            return s + \"in\"\n",
    "    return s\n",
    "\n",
    "string = input(\"Enter a string: \")\n",
    "print(modify_string(string))"
   ]
  },
  {
   "cell_type": "code",
   "execution_count": null,
   "metadata": {
    "colab": {
     "base_uri": "https://localhost:8080/"
    },
    "executionInfo": {
     "elapsed": 6877,
     "status": "ok",
     "timestamp": 1734025372947,
     "user": {
      "displayName": "shrinath patel",
      "userId": "09096090491142038205"
     },
     "user_tz": -330
    },
    "id": "EAp6PNGv-50N",
    "outputId": "c48589f9-7955-4873-d17b-9e5b021a22f7"
   },
   "outputs": [
    {
     "name": "stdout",
     "output_type": "stream",
     "text": [
      "Enter a string: 3\n",
      "3\n"
     ]
    }
   ],
   "source": [
    "## 22) Write a Python function to reverse a string if its length is a multiple of 4.\n",
    "\n",
    "def reverse_if_multiple_of_4(s):\n",
    "    if len(s) % 4 == 0:\n",
    "        return s[::-1]\n",
    "    return s\n",
    "\n",
    "string = input(\"Enter a string: \")\n",
    "print(reverse_if_multiple_of_4(string))"
   ]
  },
  {
   "cell_type": "code",
   "execution_count": null,
   "metadata": {
    "colab": {
     "base_uri": "https://localhost:8080/"
    },
    "executionInfo": {
     "elapsed": 7521,
     "status": "ok",
     "timestamp": 1734025485313,
     "user": {
      "displayName": "shrinath patel",
      "userId": "09096090491142038205"
     },
     "user_tz": -330
    },
    "id": "9mmgheyQ__GX",
    "outputId": "783a66ab-4b0b-4967-9562-f87c193007cc"
   },
   "outputs": [
    {
     "name": "stdout",
     "output_type": "stream",
     "text": [
      "Enter a string: AS\n",
      "ASAS\n"
     ]
    }
   ],
   "source": [
    "## 23) Write a Python program to get a string made of the first 2 and the last 2 chars from a given string. If the string length is less than 2, return an empty string.\n",
    "def get_first_and_last_two_chars(s):\n",
    "    if len(s) < 2:\n",
    "        return ''\n",
    "    return s[:2] + s[-2:]\n",
    "string = input(\"Enter a string: \")\n",
    "print(get_first_and_last_two_chars(string))"
   ]
  },
  {
   "cell_type": "code",
   "execution_count": null,
   "metadata": {
    "executionInfo": {
     "elapsed": 3,
     "status": "aborted",
     "timestamp": 1734012451646,
     "user": {
      "displayName": "shrinath patel",
      "userId": "09096090491142038205"
     },
     "user_tz": -330
    },
    "id": "BpCgqNeNATJi"
   },
   "outputs": [],
   "source": [
    "## 24) Write a Python function to insert a string in the middle of a string.\n",
    "def insert_in_middle(s1, s2):\n",
    "    middle = len(s1) // 2\n",
    "    return s1[:middle] + s2 + s1[middle:]\n",
    "\n",
    "string1 = input(\"Enter first string: \")\n",
    "string2 = input(\"Enter second string: \")\n",
    "\n",
    "print(insert_in_middle(string1, string2))"
   ]
  },
  {
   "cell_type": "code",
   "execution_count": null,
   "metadata": {
    "executionInfo": {
     "elapsed": 3,
     "status": "aborted",
     "timestamp": 1734012451647,
     "user": {
      "displayName": "shrinath patel",
      "userId": "09096090491142038205"
     },
     "user_tz": -330
    },
    "id": "iUThX4fFAfKk"
   },
   "outputs": [],
   "source": [
    "## 25) What is List? How will you reverse a list?\n",
    "##A list in Python is a collection of items (values), which can be of any data type. Lists are ordered, mutable (changeable), and allow duplicate elements.\n",
    "\n",
    "my_list = [1, 2, 3, 4, 5]\n",
    "my_list.reverse()\n",
    "print(my_list)"
   ]
  },
  {
   "cell_type": "code",
   "execution_count": null,
   "metadata": {
    "executionInfo": {
     "elapsed": 4,
     "status": "aborted",
     "timestamp": 1734012451648,
     "user": {
      "displayName": "shrinath patel",
      "userId": "09096090491142038205"
     },
     "user_tz": -330
    },
    "id": "S1j40CerAxU5"
   },
   "outputs": [],
   "source": [
    "## 27) Suppose list1 is [2, 33, 222, 14, 25], what is list1[-1]?\n",
    "list1 = [2, 33, 222, 14, 25]\n",
    "print(list1[-1])"
   ]
  },
  {
   "cell_type": "code",
   "execution_count": null,
   "metadata": {
    "executionInfo": {
     "elapsed": 5,
     "status": "aborted",
     "timestamp": 1734012451649,
     "user": {
      "displayName": "shrinath patel",
      "userId": "09096090491142038205"
     },
     "user_tz": -330
    },
    "id": "d5-BNJEOBl2F"
   },
   "outputs": [],
   "source": [
    "# 29) Write a Python function to get the largest number, smallest number, and sum of all from a list.\n",
    "\n",
    "def list_summary(lst):\n",
    "    return max(lst), min(lst), sum(lst)\n",
    "\n",
    "numbers = [2, 33, 222, 14, 25]\n",
    "largest, smallest, total = list_summary(numbers)"
   ]
  },
  {
   "cell_type": "code",
   "execution_count": null,
   "metadata": {
    "executionInfo": {
     "elapsed": 8,
     "status": "aborted",
     "timestamp": 1734012451652,
     "user": {
      "displayName": "shrinath patel",
      "userId": "09096090491142038205"
     },
     "user_tz": -330
    },
    "id": "mqquSQ0nCtTI"
   },
   "outputs": [
    {
     "name": "stdout",
     "output_type": "stream",
     "text": [
      "True\n",
      "False\n",
      "True\n"
     ]
    }
   ],
   "source": [
    "## 30) How will you compare two lists? You can compare two lists in Python by checking if they are equal or by comparing them element by element.\n",
    "\n",
    "list1 = [1, 2, 3]\n",
    "list2 = [1, 2, 3]\n",
    "list3 = [4, 5, 6]\n",
    "\n",
    "\n",
    "print(list1 == list2)\n",
    "print(list1 == list3)\n",
    "\n",
    "print(all(x == y for x, y in zip(list1, list2)))"
   ]
  },
  {
   "cell_type": "code",
   "execution_count": null,
   "metadata": {
    "id": "LbYIoQ3SDpnb"
   },
   "outputs": [],
   "source": [
    "## 31) Count the number of strings where the string length is 2 or more and the first and last character are same from a given list of strings.\n",
    "\n",
    "def count_strings(lst):\n",
    "    count = 0\n",
    "    for string in lst:\n",
    "        if len(string) >= 2 and string[0] == string[-1]:\n",
    "            count += 1\n",
    "    return count\n",
    "\n",
    "strings = ['abc', 'xyz', 'aba', 'aa', 'bb']\n",
    "print(count_strings(strings))"
   ]
  },
  {
   "cell_type": "code",
   "execution_count": null,
   "metadata": {
    "executionInfo": {
     "elapsed": 9,
     "status": "aborted",
     "timestamp": 1734012451653,
     "user": {
      "displayName": "shrinath patel",
      "userId": "09096090491142038205"
     },
     "user_tz": -330
    },
    "id": "pnjw2_buDuCd"
   },
   "outputs": [],
   "source": [
    "## 32) Remove duplicates from a list.\n",
    "def remove_duplicates(lst):\n",
    "    return list(set(lst))\n",
    "\n",
    "\n",
    "my_list = [1, 2, 2, 3, 4, 4, 5]\n",
    "print(remove_duplicates(my_list))"
   ]
  },
  {
   "cell_type": "code",
   "execution_count": null,
   "metadata": {
    "id": "DA54iiNCEK1g"
   },
   "outputs": [
    {
     "name": "stdout",
     "output_type": "stream",
     "text": [
      "True\n",
      "False\n"
     ]
    }
   ],
   "source": [
    "## 33) Check if a list is empty or not.\n",
    "\n",
    "def is_empty(lst):\n",
    "    return len(lst) == 0\n",
    "\n",
    "my_list = []\n",
    "print(is_empty(my_list))\n",
    "\n",
    "my_list = [1, 2, 3]\n",
    "print(is_empty(my_list))"
   ]
  },
  {
   "cell_type": "code",
   "execution_count": null,
   "metadata": {
    "id": "nRnn02m7EWxf"
   },
   "outputs": [
    {
     "name": "stdout",
     "output_type": "stream",
     "text": [
      "True\n"
     ]
    }
   ],
   "source": [
    "## 34) Check if two lists have at least one common member.\n",
    "\n",
    "def have_common_member(lst1, lst2):\n",
    "    return bool(set(lst1) & set(lst2))\n",
    "\n",
    "\n",
    "list1 = [1, 2, 3]\n",
    "list2 = [3, 4, 5]\n",
    "print(have_common_member(list1, list2))"
   ]
  },
  {
   "cell_type": "code",
   "execution_count": null,
   "metadata": {
    "id": "P_r3mXJLEg5E"
   },
   "outputs": [
    {
     "name": "stdout",
     "output_type": "stream",
     "text": [
      "[1, 4, 9, 16, 25, 676, 729, 784, 841, 900]\n"
     ]
    }
   ],
   "source": [
    "## 35) Generate and print a list of first and last 5 elements where the values are square of numbers between 1 and 30.\n",
    "\n",
    "squares = [x**2 for x in range(1, 31)]\n",
    "first_last_5 = squares[:5] + squares[-5:]\n",
    "print(first_last_5)"
   ]
  },
  {
   "cell_type": "code",
   "execution_count": null,
   "metadata": {
    "id": "Anvc9-V8Emho"
   },
   "outputs": [],
   "source": [
    "## 36) Function that takes a list and returns a new list with unique elements of the first list.\n",
    "def unique_elements(lst):\n",
    "    return list(set(lst))\n",
    "\n",
    "\n",
    "my_list = [1, 2, 2, 3, 4, 5, 5]\n",
    "print(unique_elements(my_list))"
   ]
  },
  {
   "cell_type": "code",
   "execution_count": null,
   "metadata": {
    "id": "lTQuLLvYE0Ft"
   },
   "outputs": [
    {
     "name": "stdout",
     "output_type": "stream",
     "text": [
      "abc\n"
     ]
    }
   ],
   "source": [
    "## 37) Convert a list of characters into a string.\n",
    "\n",
    "def list_to_string(lst):\n",
    "    return ''.join(lst)\n",
    "\n",
    "char_list = ['a', 'b', 'c']\n",
    "print(list_to_string(char_list))"
   ]
  },
  {
   "cell_type": "code",
   "execution_count": null,
   "metadata": {
    "id": "oylN0CZVE7t0"
   },
   "outputs": [
    {
     "name": "stdout",
     "output_type": "stream",
     "text": [
      "1\n"
     ]
    }
   ],
   "source": [
    "#338) Select an item randomly from a list.\n",
    "\n",
    "import random\n",
    "\n",
    "def random_item(lst):\n",
    "    return random.choice(lst)\n",
    "\n",
    "my_list = [1, 2, 3, 4, 5]\n",
    "print(random_item(my_list))"
   ]
  },
  {
   "cell_type": "code",
   "execution_count": null,
   "metadata": {
    "id": "S2lsRZvGFG6g"
   },
   "outputs": [],
   "source": [
    "# 39) Find the second smallest number in a list.\n",
    "def second_smallest(lst):\n",
    "    unique_lst = list(set(lst))\n",
    "    unique_lst.sort()\n",
    "    return unique_lst[1] if len(unique_lst) > 1 else None\n",
    "\n",
    "my_list = [1, 2, 3, 4, 5]\n",
    "print(second_smallest(my_list))"
   ]
  },
  {
   "cell_type": "code",
   "execution_count": null,
   "metadata": {
    "colab": {
     "base_uri": "https://localhost:8080/"
    },
    "executionInfo": {
     "elapsed": 406,
     "status": "ok",
     "timestamp": 1734012477224,
     "user": {
      "displayName": "shrinath patel",
      "userId": "09096090491142038205"
     },
     "user_tz": -330
    },
    "id": "wz0Q_Z0rFQra",
    "outputId": "17a7f0f6-c95f-4dfa-d301-58877a557341"
   },
   "outputs": [
    {
     "name": "stdout",
     "output_type": "stream",
     "text": [
      "[1, 2, 3, 4, 5]\n"
     ]
    }
   ],
   "source": [
    "## 40) Get unique values from a list.\n",
    "def get_unique_values(lst):\n",
    "    return list(set(lst))\n",
    "\n",
    "\n",
    "my_list = [1, 2, 2, 3, 4, 4, 5]\n",
    "print(get_unique_values(my_list))"
   ]
  },
  {
   "cell_type": "code",
   "execution_count": null,
   "metadata": {
    "colab": {
     "base_uri": "https://localhost:8080/"
    },
    "executionInfo": {
     "elapsed": 359,
     "status": "ok",
     "timestamp": 1734025502815,
     "user": {
      "displayName": "shrinath patel",
      "userId": "09096090491142038205"
     },
     "user_tz": -330
    },
    "id": "g4aW3deyMrnP",
    "outputId": "01d3d9b1-20f2-49c0-ea56-47d11b789341"
   },
   "outputs": [
    {
     "name": "stdout",
     "output_type": "stream",
     "text": [
      "True\n"
     ]
    }
   ],
   "source": [
    "## 41) Check whether a list contains a sublist.\n",
    "\n",
    "def contains_sublist(lst, sublist):\n",
    "  return any(lst[i:i+len(sublist)] == sublist for i in range(len(lst) - len(sublist) + 1))\n",
    "\n",
    "\n",
    "main_list = [1, 2, 3, 4, 5]\n",
    "sub_list = [3, 4]\n",
    "print(contains_sublist(main_list, sub_list))"
   ]
  },
  {
   "cell_type": "code",
   "execution_count": null,
   "metadata": {
    "colab": {
     "base_uri": "https://localhost:8080/"
    },
    "executionInfo": {
     "elapsed": 414,
     "status": "ok",
     "timestamp": 1734025506870,
     "user": {
      "displayName": "shrinath patel",
      "userId": "09096090491142038205"
     },
     "user_tz": -330
    },
    "id": "pWAJwVb-NILH",
    "outputId": "2fcdffb0-9141-4373-8557-e8528d939dd8"
   },
   "outputs": [
    {
     "name": "stdout",
     "output_type": "stream",
     "text": [
      "1 2 3\n"
     ]
    }
   ],
   "source": [
    "##42) Split a list into different variables.\n",
    "def split_list(lst):\n",
    "    if len(lst) == 3:\n",
    "        var1, var2, var3 = lst\n",
    "        return var1, var2, var3\n",
    "    else:\n",
    "        return None\n",
    "\n",
    "my_list = [1, 2, 3]\n",
    "var1, var2, var3 = split_list(my_list)\n",
    "print(var1, var2, var3)"
   ]
  },
  {
   "cell_type": "code",
   "execution_count": null,
   "metadata": {
    "colab": {
     "base_uri": "https://localhost:8080/"
    },
    "executionInfo": {
     "elapsed": 412,
     "status": "ok",
     "timestamp": 1734012788047,
     "user": {
      "displayName": "shrinath patel",
      "userId": "09096090491142038205"
     },
     "user_tz": -330
    },
    "id": "Xs65hyK4NSs5",
    "outputId": "26f83198-f170-42a8-ca5a-ecee4dc81fbc"
   },
   "outputs": [
    {
     "name": "stdout",
     "output_type": "stream",
     "text": [
      "(1, 'Hello', 3.14, True, None)\n"
     ]
    }
   ],
   "source": [
    "## 44) Python program to create a tuple with different data types.\n",
    "\n",
    "my_tuple = (1, \"Hello\", 3.14, True, None)\n",
    "\n",
    "print(my_tuple)"
   ]
  },
  {
   "cell_type": "code",
   "execution_count": null,
   "metadata": {
    "colab": {
     "base_uri": "https://localhost:8080/"
    },
    "executionInfo": {
     "elapsed": 397,
     "status": "ok",
     "timestamp": 1734012851564,
     "user": {
      "displayName": "shrinath patel",
      "userId": "09096090491142038205"
     },
     "user_tz": -330
    },
    "id": "5HZdgDWqN7oL",
    "outputId": "d4cf03ef-3ef4-4ebe-a886-e0d7448acb9e"
   },
   "outputs": [
    {
     "name": "stdout",
     "output_type": "stream",
     "text": [
      "List 1: [1, 2, 3]\n",
      "List 2: ['a', 'b', 'c']\n"
     ]
    }
   ],
   "source": [
    "## 45) Python program to unzip a list of tuples into individual lists.\n",
    "list_of_tuples = [(1, 'a'), (2, 'b'), (3, 'c')]\n",
    "list1, list2 = zip(*list_of_tuples)\n",
    "list1 = list(list1)\n",
    "list2 = list(list2)\n",
    "print(\"List 1:\", list1)\n",
    "print(\"List 2:\", list2)"
   ]
  },
  {
   "cell_type": "code",
   "execution_count": null,
   "metadata": {
    "colab": {
     "base_uri": "https://localhost:8080/"
    },
    "executionInfo": {
     "elapsed": 406,
     "status": "ok",
     "timestamp": 1734012921550,
     "user": {
      "displayName": "shrinath patel",
      "userId": "09096090491142038205"
     },
     "user_tz": -330
    },
    "id": "3qEBAGv8OGH6",
    "outputId": "f64f1b83-e626-46ce-c417-4da6542ba411"
   },
   "outputs": [
    {
     "name": "stdout",
     "output_type": "stream",
     "text": [
      "{1: 'a', 2: 'b', 3: 'c'}\n"
     ]
    }
   ],
   "source": [
    "## 46) Write a Python program to convert a list of tuples into a dictionary.\n",
    "list_of_tuples = [(1, 'a'), (2, 'b'), (3, 'c')]\n",
    "my_dict = dict(list_of_tuples)\n",
    "print(my_dict)"
   ]
  },
  {
   "cell_type": "code",
   "execution_count": null,
   "metadata": {
    "colab": {
     "base_uri": "https://localhost:8080/"
    },
    "executionInfo": {
     "elapsed": 639,
     "status": "ok",
     "timestamp": 1734012968594,
     "user": {
      "displayName": "shrinath patel",
      "userId": "09096090491142038205"
     },
     "user_tz": -330
    },
    "id": "MWjsIdi2OXFR",
    "outputId": "a3ef6e85-6c47-4255-c626-cd9cb708d5ad"
   },
   "outputs": [
    {
     "name": "stdout",
     "output_type": "stream",
     "text": [
      "{'a': 1, 'b': 2, 'c': 3}\n"
     ]
    }
   ],
   "source": [
    "# 47) How will you create a dictionary using tuples in Python?\n",
    "\n",
    "tuple_data = (('a', 1), ('b', 2), ('c', 3))\n",
    "my_dict = dict(tuple_data)\n",
    "\n",
    "print(my_dict)"
   ]
  },
  {
   "cell_type": "code",
   "execution_count": null,
   "metadata": {
    "colab": {
     "base_uri": "https://localhost:8080/"
    },
    "executionInfo": {
     "elapsed": 460,
     "status": "ok",
     "timestamp": 1734013012666,
     "user": {
      "displayName": "shrinath patel",
      "userId": "09096090491142038205"
     },
     "user_tz": -330
    },
    "id": "w2Ts8bJcOklS",
    "outputId": "0857efa0-ec98-424a-dae5-de8980342841"
   },
   "outputs": [
    {
     "name": "stdout",
     "output_type": "stream",
     "text": [
      "Ascending: {'banana': 5, 'apple': 10, 'date': 15, 'cherry': 20}\n",
      "Descending: {'cherry': 20, 'date': 15, 'apple': 10, 'banana': 5}\n"
     ]
    }
   ],
   "source": [
    "## 48) Write a Python script to sort (ascending and descending) a dictionary by value.\n",
    "my_dict = {'apple': 10, 'banana': 5, 'cherry': 20, 'date': 15}\n",
    "sorted_dict_asc = dict(sorted(my_dict.items(), key=lambda item: item[1]))\n",
    "\n",
    "sorted_dict_desc = dict(sorted(my_dict.items(), key=lambda item: item[1], reverse=True))\n",
    "\n",
    "print(\"Ascending:\", sorted_dict_asc)\n",
    "print(\"Descending:\", sorted_dict_desc)"
   ]
  },
  {
   "cell_type": "code",
   "execution_count": null,
   "metadata": {
    "colab": {
     "base_uri": "https://localhost:8080/"
    },
    "executionInfo": {
     "elapsed": 437,
     "status": "ok",
     "timestamp": 1734013053353,
     "user": {
      "displayName": "shrinath patel",
      "userId": "09096090491142038205"
     },
     "user_tz": -330
    },
    "id": "YYigFPaFOt66",
    "outputId": "d7412707-8bf8-4f64-f86c-fe2526573f25"
   },
   "outputs": [
    {
     "name": "stdout",
     "output_type": "stream",
     "text": [
      "{'a': 1, 'b': 2, 'c': 3, 'd': 4, 'e': 5, 'f': 6}\n"
     ]
    }
   ],
   "source": [
    "# 49) Write a Python script to concatenate following dictionaries to create a new one.\n",
    "dict1 = {'a': 1, 'b': 2}\n",
    "dict2 = {'c': 3, 'd': 4}\n",
    "dict3 = {'e': 5, 'f': 6}\n",
    "merged_dict = {**dict1, **dict2, **dict3}\n",
    "\n",
    "print(merged_dict)"
   ]
  },
  {
   "cell_type": "code",
   "execution_count": null,
   "metadata": {
    "colab": {
     "base_uri": "https://localhost:8080/"
    },
    "executionInfo": {
     "elapsed": 440,
     "status": "ok",
     "timestamp": 1734013084278,
     "user": {
      "displayName": "shrinath patel",
      "userId": "09096090491142038205"
     },
     "user_tz": -330
    },
    "id": "gw4O0FjcO3NK",
    "outputId": "6d3ffd65-c8f6-4237-862f-0359fc8dac37"
   },
   "outputs": [
    {
     "name": "stdout",
     "output_type": "stream",
     "text": [
      "Key 'b' exists in the dictionary.\n"
     ]
    }
   ],
   "source": [
    "# 50) Write a Python script to check if a given key already exists in a dictionary.\n",
    "my_dict = {'a': 1, 'b': 2, 'c': 3}\n",
    "\n",
    "key = 'b'\n",
    "if key in my_dict.keys() :\n",
    "    print(f\"Key '{key}' exists in the dictionary.\")\n",
    "else:\n",
    "    print(f\"Key '{key}' does not exist in the dictionary.\")"
   ]
  },
  {
   "cell_type": "code",
   "execution_count": null,
   "metadata": {
    "colab": {
     "base_uri": "https://localhost:8080/"
    },
    "executionInfo": {
     "elapsed": 430,
     "status": "ok",
     "timestamp": 1734013119353,
     "user": {
      "displayName": "shrinath patel",
      "userId": "09096090491142038205"
     },
     "user_tz": -330
    },
    "id": "5MeG34WSO_Qb",
    "outputId": "142a8bb6-1d21-478d-f8ed-35e07d984374"
   },
   "outputs": [
    {
     "name": "stdout",
     "output_type": "stream",
     "text": [
      "Key: a, Value: 1\n",
      "Key: b, Value: 2\n",
      "Key: c, Value: 3\n"
     ]
    }
   ],
   "source": [
    "## 51) How Do You Traverse Through a Dictionary Object in Python?\n",
    "my_dict = {'a': 1, 'b': 2, 'c': 3}\n",
    "\n",
    "for key, value in my_dict.items():\n",
    "    print(f\"Key: {key}, Value: {value}\")"
   ]
  },
  {
   "cell_type": "code",
   "execution_count": null,
   "metadata": {
    "colab": {
     "base_uri": "https://localhost:8080/"
    },
    "executionInfo": {
     "elapsed": 415,
     "status": "ok",
     "timestamp": 1734013156166,
     "user": {
      "displayName": "shrinath patel",
      "userId": "09096090491142038205"
     },
     "user_tz": -330
    },
    "id": "z5i-_LWMPHXK",
    "outputId": "485356b6-730f-4261-feac-bc16fd6747eb"
   },
   "outputs": [
    {
     "name": "stdout",
     "output_type": "stream",
     "text": [
      "Key 'b' is present in the dictionary.\n"
     ]
    }
   ],
   "source": [
    "##2) How Do You Check the Presence of a Key in A Dictionary?\n",
    "\n",
    "my_dict = {'a': 1, 'b': 2, 'c': 3}\n",
    "\n",
    "key = 'b'\n",
    "if key in my_dict:\n",
    "    print(f\"Key '{key}' is present in the dictionary.\")\n",
    "else:\n",
    "    print(f\"Key '{key}' is not present in the dictionary.\")"
   ]
  },
  {
   "cell_type": "code",
   "execution_count": null,
   "metadata": {
    "colab": {
     "base_uri": "https://localhost:8080/"
    },
    "executionInfo": {
     "elapsed": 502,
     "status": "ok",
     "timestamp": 1734013198908,
     "user": {
      "displayName": "shrinath patel",
      "userId": "09096090491142038205"
     },
     "user_tz": -330
    },
    "id": "NC6IjI-VPUCJ",
    "outputId": "198c63c9-56d1-498b-a78e-49fe9b1b363f"
   },
   "outputs": [
    {
     "name": "stdout",
     "output_type": "stream",
     "text": [
      "{1: 1, 2: 4, 3: 9, 4: 16, 5: 25, 6: 36, 7: 49, 8: 64, 9: 81, 10: 100, 11: 121, 12: 144, 13: 169, 14: 196, 15: 225}\n"
     ]
    }
   ],
   "source": [
    "# 53) Write a Python script to print a dictionary where the keys are numbers between 1 and 15.\n",
    "my_dict = {i: i**2 for i in range(1, 16)}\n",
    "\n",
    "print(my_dict)"
   ]
  },
  {
   "cell_type": "code",
   "execution_count": null,
   "metadata": {
    "colab": {
     "base_uri": "https://localhost:8080/"
    },
    "executionInfo": {
     "elapsed": 408,
     "status": "ok",
     "timestamp": 1734013257625,
     "user": {
      "displayName": "shrinath patel",
      "userId": "09096090491142038205"
     },
     "user_tz": -330
    },
    "id": "UsTtAr3xPbAo",
    "outputId": "40f374cf-dc72-4c0a-827b-848e1a7e0b3b"
   },
   "outputs": [
    {
     "name": "stdout",
     "output_type": "stream",
     "text": [
      "Some keys are missing.\n"
     ]
    }
   ],
   "source": [
    "## 54) Write a Python program to check multiple keys exist in a dictionary.\n",
    "my_dict = {'a': 1, 'b': 2, 'c': 3, 'd': 4}\n",
    "\n",
    "keys_to_check = ['a', 'c', 'e']\n",
    "\n",
    "all_keys_exist = all(key in my_dict for key in keys_to_check)\n",
    "\n",
    "if all_keys_exist:\n",
    "    print(\"All keys exist.\")\n",
    "else:\n",
    "    print(\"Some keys are missing.\")"
   ]
  },
  {
   "cell_type": "code",
   "execution_count": null,
   "metadata": {
    "colab": {
     "base_uri": "https://localhost:8080/"
    },
    "executionInfo": {
     "elapsed": 419,
     "status": "ok",
     "timestamp": 1734013362692,
     "user": {
      "displayName": "shrinath patel",
      "userId": "09096090491142038205"
     },
     "user_tz": -330
    },
    "id": "qlrU-5T-PqPr",
    "outputId": "29b6849d-04f7-4f18-f87d-ee733968de47"
   },
   "outputs": [
    {
     "name": "stdout",
     "output_type": "stream",
     "text": [
      "Merged Dictionary: {'a': 1, 'b': 2, 'c': 3, 'd': 4}\n"
     ]
    }
   ],
   "source": [
    "## 55) Write a Python script to merge two Python dictionaries.\n",
    "\n",
    "dict1 = {'a': 1, 'b': 2}\n",
    "dict2 = {'c': 3, 'd': 4}\n",
    "\n",
    "dict1.update(dict2)\n",
    "merged_dict = {**dict1, **dict2}\n",
    "\n",
    "print(\"Merged Dictionary:\", merged_dict)"
   ]
  },
  {
   "cell_type": "code",
   "execution_count": null,
   "metadata": {
    "colab": {
     "base_uri": "https://localhost:8080/"
    },
    "executionInfo": {
     "elapsed": 435,
     "status": "ok",
     "timestamp": 1734013397091,
     "user": {
      "displayName": "shrinath patel",
      "userId": "09096090491142038205"
     },
     "user_tz": -330
    },
    "id": "IAdVZ3XgQCrd",
    "outputId": "be928b64-e29b-4bd8-f931-362aaea77fc8"
   },
   "outputs": [
    {
     "name": "stdout",
     "output_type": "stream",
     "text": [
      "Mapped Dictionary: {'a': 400, 'b': 400, 'c': 300, 'd': 400}\n"
     ]
    }
   ],
   "source": [
    "## 56) Write a Python program to map two lists into a dictionary.\n",
    "keys = ['a', 'b', 'c', 'd']\n",
    "values = [400, 400, 300, 400]\n",
    "\n",
    "mapped_dict = dict(zip(keys, values))\n",
    "\n",
    "print(\"Mapped Dictionary:\", mapped_dict)"
   ]
  },
  {
   "cell_type": "code",
   "execution_count": null,
   "metadata": {
    "colab": {
     "base_uri": "https://localhost:8080/"
    },
    "executionInfo": {
     "elapsed": 433,
     "status": "ok",
     "timestamp": 1734013427683,
     "user": {
      "displayName": "shrinath patel",
      "userId": "09096090491142038205"
     },
     "user_tz": -330
    },
    "id": "mwt2sd5ZQLTZ",
    "outputId": "593cc955-d531-4d8a-e45c-13f9d7cb9045"
   },
   "outputs": [
    {
     "name": "stdout",
     "output_type": "stream",
     "text": [
      "Highest 3 values: [500, 400, 300]\n"
     ]
    }
   ],
   "source": [
    "#3 57) Write a Python program to find the highest 3 values in a dictionary.\n",
    "my_dict = {'a': 100, 'b': 200, 'c': 300, 'd': 400, 'e': 500}\n",
    "\n",
    "top_3_values = sorted(my_dict.values(), reverse=True)[:3]\n",
    "\n",
    "print(\"Highest 3 values:\", top_3_values)"
   ]
  },
  {
   "cell_type": "code",
   "execution_count": null,
   "metadata": {
    "colab": {
     "base_uri": "https://localhost:8080/"
    },
    "executionInfo": {
     "elapsed": 613,
     "status": "ok",
     "timestamp": 1734025565646,
     "user": {
      "displayName": "shrinath patel",
      "userId": "09096090491142038205"
     },
     "user_tz": -330
    },
    "id": "-OSDaQXeQTRs",
    "outputId": "a1894507-319b-47f2-8a53-928d84ac2a5b"
   },
   "outputs": [
    {
     "name": "stdout",
     "output_type": "stream",
     "text": [
      "Counter({'item1': 1150, 'item2': 300})\n"
     ]
    }
   ],
   "source": [
    "#3 58) Write a Python program to combine values in a list of dictionaries.\n",
    "from collections import Counter\n",
    "data = [{'item': 'item1', 'amount': 400}, {'item': 'item2', 'amount': 300}, {'item': 'item1', 'amount': 750}]\n",
    "\n",
    "result = Counter()\n",
    "for d in data:\n",
    "    result[d['item']] += d['amount']\n",
    "\n",
    "print(result)"
   ]
  },
  {
   "cell_type": "code",
   "execution_count": null,
   "metadata": {
    "colab": {
     "base_uri": "https://localhost:8080/"
    },
    "executionInfo": {
     "elapsed": 438,
     "status": "ok",
     "timestamp": 1734013532622,
     "user": {
      "displayName": "shrinath patel",
      "userId": "09096090491142038205"
     },
     "user_tz": -330
    },
    "id": "HZiDQqvdQhrn",
    "outputId": "6a81ae89-46e3-4faa-e8d9-ec2e4f94bfdb"
   },
   "outputs": [
    {
     "name": "stdout",
     "output_type": "stream",
     "text": [
      "{'h': 1, 'e': 1, 'l': 3, 'o': 2, ' ': 1, 'w': 1, 'r': 1, 'd': 1}\n"
     ]
    }
   ],
   "source": [
    "## 59) Write a Python program to create a dictionary from a string.\n",
    "from collections import Counter\n",
    "\n",
    "input_string = \"hello world\"\n",
    "\n",
    "char_count = dict(Counter(input_string))\n",
    "\n",
    "print(char_count)"
   ]
  },
  {
   "cell_type": "code",
   "execution_count": null,
   "metadata": {
    "colab": {
     "base_uri": "https://localhost:8080/"
    },
    "executionInfo": {
     "elapsed": 430,
     "status": "ok",
     "timestamp": 1734013618703,
     "user": {
      "displayName": "shrinath patel",
      "userId": "09096090491142038205"
     },
     "user_tz": -330
    },
    "id": "oRz3RxHAQsYC",
    "outputId": "ddb29ebd-f5f1-41a8-9aa9-ac9745c990bc"
   },
   "outputs": [
    {
     "name": "stdout",
     "output_type": "stream",
     "text": [
      "{'w': 1, '3': 1, 'r': 2, 'e': 2, 's': 1, 'o': 1, 'u': 1, 'c': 1}\n"
     ]
    }
   ],
   "source": [
    "## 60) Sample string: 'w3resource' Expected output:{'3': 1,’s’: 1, 'r': 2, 'u': 1, 'w': 1, 'c': 1, 'e': 2, 'o': 1}\n",
    "from collections import Counter\n",
    "\n",
    "sample_string = 'w3resource'\n",
    "\n",
    "char_count = dict(Counter(sample_string))\n",
    "\n",
    "print(char_count)"
   ]
  },
  {
   "cell_type": "code",
   "execution_count": null,
   "metadata": {
    "colab": {
     "base_uri": "https://localhost:8080/"
    },
    "executionInfo": {
     "elapsed": 466,
     "status": "ok",
     "timestamp": 1734013696007,
     "user": {
      "displayName": "shrinath patel",
      "userId": "09096090491142038205"
     },
     "user_tz": -330
    },
    "id": "HUCw-nuoRK-x",
    "outputId": "88ce72f8-ad3d-4463-8b2c-e0218c856039"
   },
   "outputs": [
    {
     "name": "stdout",
     "output_type": "stream",
     "text": [
      "Factorial of 5 is 120\n"
     ]
    }
   ],
   "source": [
    "## 61) Write a Python function to calculate the factorial of a number (a nonnegative integer).\n",
    "def factorial(n):\n",
    "    if n == 0 or n == 1:\n",
    "        return 1\n",
    "    else:\n",
    "        return n * factorial(n - 1)\n",
    "\n",
    "num = 5\n",
    "print(f\"Factorial of {num} is {factorial(num)}\")"
   ]
  },
  {
   "cell_type": "code",
   "execution_count": null,
   "metadata": {
    "colab": {
     "base_uri": "https://localhost:8080/"
    },
    "executionInfo": {
     "elapsed": 450,
     "status": "ok",
     "timestamp": 1734013722419,
     "user": {
      "displayName": "shrinath patel",
      "userId": "09096090491142038205"
     },
     "user_tz": -330
    },
    "id": "3OVL77__RUrl",
    "outputId": "cd42e366-61a2-45c8-cc9e-c82ca5c6311a"
   },
   "outputs": [
    {
     "name": "stdout",
     "output_type": "stream",
     "text": [
      "True\n"
     ]
    }
   ],
   "source": [
    "## 62) Write a Python function to check whether a number is in a given range.\n",
    "def check_range(num, start, end):\n",
    "    if start <= num <= end:\n",
    "        return True\n",
    "    else:\n",
    "        return False\n",
    "\n",
    "num = 5\n",
    "start = 1\n",
    "end = 10\n",
    "print(check_range(num, start, end))"
   ]
  },
  {
   "cell_type": "code",
   "execution_count": 11,
   "metadata": {
    "colab": {
     "base_uri": "https://localhost:8080/"
    },
    "executionInfo": {
     "elapsed": 606,
     "status": "ok",
     "timestamp": 1734025607932,
     "user": {
      "displayName": "shrinath patel",
      "userId": "09096090491142038205"
     },
     "user_tz": -330
    },
    "id": "1ro-cahkRa68",
    "outputId": "402d7374-a444-4fd7-8cfe-3793146584bd"
   },
   "outputs": [
    {
     "name": "stdout",
     "output_type": "stream",
     "text": [
      "False\n"
     ]
    }
   ],
   "source": [
    "# 63) Write a Python function to check whether a number is perfect or not.\n",
    "def is_perfect(num):\n",
    "  divisors_sum = sum(i for i in range(1, num) if num % i == 0)\n",
    "  return divisors_sum == num\n",
    "num = 14\n",
    "print(is_perfect(num))"
   ]
  },
  {
   "cell_type": "code",
   "execution_count": null,
   "metadata": {
    "colab": {
     "base_uri": "https://localhost:8080/"
    },
    "executionInfo": {
     "elapsed": 452,
     "status": "ok",
     "timestamp": 1734013820459,
     "user": {
      "displayName": "shrinath patel",
      "userId": "09096090491142038205"
     },
     "user_tz": -330
    },
    "id": "J1n-X6beRqWF",
    "outputId": "cd10415f-6ccc-4c1c-dbf6-ada79f6f538e"
   },
   "outputs": [
    {
     "name": "stdout",
     "output_type": "stream",
     "text": [
      "True\n"
     ]
    }
   ],
   "source": [
    "## 64) Write a Python function that checks whether a passed string is palindrome or not.\n",
    "def is_palindrome(s):\n",
    "    return s == s[::-1]\n",
    "\n",
    "s = \"madam\"\n",
    "print(is_palindrome(s))"
   ]
  },
  {
   "cell_type": "code",
   "execution_count": null,
   "metadata": {
    "colab": {
     "base_uri": "https://localhost:8080/"
    },
    "executionInfo": {
     "elapsed": 15,
     "status": "ok",
     "timestamp": 1734023064746,
     "user": {
      "displayName": "shrinath patel",
      "userId": "09096090491142038205"
     },
     "user_tz": -330
    },
    "id": "eCro9ghD0bQf",
    "outputId": "af95ace3-1232-4bf2-d73f-794588bde635"
   },
   "outputs": [
    {
     "name": "stdout",
     "output_type": "stream",
     "text": [
      "2\n"
     ]
    }
   ],
   "source": [
    "# 66) How can you pick a random item from a list or tuple?\n",
    "import random\n",
    "my_list = [1, 2, 3, 4, 5]\n",
    "\n",
    "random_item = random.choice(my_list)\n",
    "print(random_item)"
   ]
  },
  {
   "cell_type": "code",
   "execution_count": null,
   "metadata": {
    "colab": {
     "base_uri": "https://localhost:8080/"
    },
    "executionInfo": {
     "elapsed": 386,
     "status": "ok",
     "timestamp": 1734023096608,
     "user": {
      "displayName": "shrinath patel",
      "userId": "09096090491142038205"
     },
     "user_tz": -330
    },
    "id": "Hn5liTjS01s_",
    "outputId": "6072069c-4e11-4f51-97d8-96822b8b0359"
   },
   "outputs": [
    {
     "name": "stdout",
     "output_type": "stream",
     "text": [
      "6\n"
     ]
    }
   ],
   "source": [
    "## 67) How can you pick a random item from a range?\n",
    "import random\n",
    "\n",
    "my_range = range(1, 10)\n",
    "\n",
    "random_item = random.choice(my_range)\n",
    "print(random_item)"
   ]
  },
  {
   "cell_type": "code",
   "execution_count": null,
   "metadata": {
    "colab": {
     "base_uri": "https://localhost:8080/"
    },
    "executionInfo": {
     "elapsed": 394,
     "status": "ok",
     "timestamp": 1734023127844,
     "user": {
      "displayName": "shrinath patel",
      "userId": "09096090491142038205"
     },
     "user_tz": -330
    },
    "id": "5eAvcR7H1Ls3",
    "outputId": "22d8b7a9-5f05-41ea-d92e-b011ca385038"
   },
   "outputs": [
    {
     "name": "stdout",
     "output_type": "stream",
     "text": [
      "60\n"
     ]
    }
   ],
   "source": [
    "## 68) How can you get a random number in Python?\n",
    "import random\n",
    "random_num = random.randint(1, 100)\n",
    "print(random_num)"
   ]
  },
  {
   "cell_type": "code",
   "execution_count": null,
   "metadata": {
    "colab": {
     "base_uri": "https://localhost:8080/"
    },
    "executionInfo": {
     "elapsed": 370,
     "status": "ok",
     "timestamp": 1734023159821,
     "user": {
      "displayName": "shrinath patel",
      "userId": "09096090491142038205"
     },
     "user_tz": -330
    },
    "id": "cGjOmzn51T6F",
    "outputId": "38393502-da5e-4c4c-abae-b5bc91ac45b5"
   },
   "outputs": [
    {
     "name": "stdout",
     "output_type": "stream",
     "text": [
      "74\n"
     ]
    }
   ],
   "source": [
    "## 69) How will you set the starting value in generating random numbers?\n",
    "import random\n",
    "\n",
    "random.seed(10)\n",
    "\n",
    "print(random.randint(1, 100))"
   ]
  },
  {
   "cell_type": "code",
   "execution_count": null,
   "metadata": {
    "colab": {
     "base_uri": "https://localhost:8080/"
    },
    "executionInfo": {
     "elapsed": 572,
     "status": "ok",
     "timestamp": 1734023901019,
     "user": {
      "displayName": "shrinath patel",
      "userId": "09096090491142038205"
     },
     "user_tz": -330
    },
    "id": "LGwOOSnI1dVU",
    "outputId": "1560c7b8-f01c-4d0d-e367-f46d5d988cd2"
   },
   "outputs": [
    {
     "name": "stdout",
     "output_type": "stream",
     "text": [
      "[3, 5, 2, 4, 1]\n"
     ]
    }
   ],
   "source": [
    "## 70) How will you randomize the items of a list in place?\n",
    "import random\n",
    "\n",
    "my_list = [1, 2, 3, 4, 5]\n",
    "\n",
    "random.shuffle(my_list)\n",
    "\n",
    "print(my_list)"
   ]
  },
  {
   "cell_type": "code",
   "execution_count": null,
   "metadata": {
    "colab": {
     "base_uri": "https://localhost:8080/",
     "height": 193
    },
    "executionInfo": {
     "elapsed": 362,
     "status": "error",
     "timestamp": 1734025623098,
     "user": {
      "displayName": "shrinath patel",
      "userId": "09096090491142038205"
     },
     "user_tz": -330
    },
    "id": "wv4tQThH7YaY",
    "outputId": "01470dda-f535-40c5-eb1c-700f96a2ee6a"
   },
   "outputs": [
    {
     "ename": "FileNotFoundError",
     "evalue": "[Errno 2] No such file or directory: 'example.txt'",
     "output_type": "error",
     "traceback": [
      "\u001b[0;31m---------------------------------------------------------------------------\u001b[0m",
      "\u001b[0;31mFileNotFoundError\u001b[0m                         Traceback (most recent call last)",
      "\u001b[0;32m<ipython-input-24-0361ef0c1127>\u001b[0m in \u001b[0;36m<cell line: 2>\u001b[0;34m()\u001b[0m\n\u001b[1;32m      1\u001b[0m \u001b[0;31m## 72) Write a Python program to read an entire text file.\u001b[0m\u001b[0;34m\u001b[0m\u001b[0;34m\u001b[0m\u001b[0m\n\u001b[0;32m----> 2\u001b[0;31m \u001b[0;32mwith\u001b[0m \u001b[0mopen\u001b[0m\u001b[0;34m(\u001b[0m\u001b[0;34m\"example.txt\"\u001b[0m\u001b[0;34m,\u001b[0m \u001b[0;34m\"r\"\u001b[0m\u001b[0;34m)\u001b[0m \u001b[0;32mas\u001b[0m \u001b[0mfile\u001b[0m\u001b[0;34m:\u001b[0m\u001b[0;34m\u001b[0m\u001b[0;34m\u001b[0m\u001b[0m\n\u001b[0m\u001b[1;32m      3\u001b[0m     \u001b[0mcontent\u001b[0m \u001b[0;34m=\u001b[0m \u001b[0mfile\u001b[0m\u001b[0;34m.\u001b[0m\u001b[0mread\u001b[0m\u001b[0;34m(\u001b[0m\u001b[0;34m)\u001b[0m\u001b[0;34m\u001b[0m\u001b[0;34m\u001b[0m\u001b[0m\n\u001b[1;32m      4\u001b[0m \u001b[0mprint\u001b[0m\u001b[0;34m(\u001b[0m\u001b[0mcontent\u001b[0m\u001b[0;34m)\u001b[0m\u001b[0;34m\u001b[0m\u001b[0;34m\u001b[0m\u001b[0m\n",
      "\u001b[0;31mFileNotFoundError\u001b[0m: [Errno 2] No such file or directory: 'example.txt'"
     ]
    }
   ],
   "source": [
    "## 72) Write a Python program to read an entire text file.\n",
    "with open(\"example.txt\", \"r\") as file:\n",
    "    content = file.read()\n",
    "print(content)"
   ]
  },
  {
   "cell_type": "code",
   "execution_count": null,
   "metadata": {
    "id": "pYd9Gugh7qVr"
   },
   "outputs": [],
   "source": [
    "## 73) Write a Python program to append text to a file and display the text.\n",
    "with open(\"example.txt\", \"a\") as file:\n",
    "    file.write(\"\\nAppended text.\")\n",
    "\n",
    "with open(\"example.txt\", \"r\") as file:\n",
    "    content = file.read()\n",
    "    print(content)"
   ]
  },
  {
   "cell_type": "code",
   "execution_count": null,
   "metadata": {
    "id": "Jd3Ba2i07xIh"
   },
   "outputs": [],
   "source": [
    "## 74) Write a Python program to read the first n lines of a file.\n",
    "def read_first_n_lines(filename, n):\n",
    "    with open(filename, \"r\") as file:\n",
    "        for _ in range(n):\n",
    "            print(file.readline(), end='')\n",
    "\n",
    "read_first_n_lines(\"example.txt\", 3)"
   ]
  },
  {
   "cell_type": "code",
   "execution_count": null,
   "metadata": {
    "id": "sZGPEuVz73Db"
   },
   "outputs": [],
   "source": [
    "## 75) Write a Python program to read the last n lines of a file.\n",
    "def read_last_n_lines(filename, n):\n",
    "    with open(filename, \"r\") as file:\n",
    "        lines = file.readlines()\n",
    "        for line in lines[-n:]:\n",
    "            print(line, end='')\n",
    "\n",
    "read_last_n_lines(\"example.txt\", 3)"
   ]
  },
  {
   "cell_type": "code",
   "execution_count": null,
   "metadata": {
    "id": "Sc4IZ71c77hv"
   },
   "outputs": [],
   "source": [
    "## 76) Write a Python program to read a file line by line and store it into a list.\n",
    "with open(\"example.txt\", \"r\") as file:\n",
    "    lines = file.readlines()\n",
    "\n",
    "print(lines)"
   ]
  },
  {
   "cell_type": "code",
   "execution_count": null,
   "metadata": {
    "id": "Wrq6-zAW8DBB"
   },
   "outputs": [],
   "source": [
    "## 77) Write a Python program to read a file line by line and store it into a variable.\n",
    "text = ''\n",
    "with open(\"example.txt\", \"r\") as file:\n",
    "    for line in file:\n",
    "        text += line\n",
    "\n",
    "print(text)"
   ]
  },
  {
   "cell_type": "code",
   "execution_count": null,
   "metadata": {
    "id": "Q8w3etTG8IsP"
   },
   "outputs": [],
   "source": [
    "## 78) Write a python program to find the longest word.\n",
    "def find_longest_word(filename):\n",
    "    with open(filename, \"r\") as file:\n",
    "        words = file.read().split()\n",
    "        longest_word = max(words, key=len)\n",
    "        return longest_word\n",
    "\n",
    "print(find_longest_word(\"example.txt\"))"
   ]
  },
  {
   "cell_type": "code",
   "execution_count": null,
   "metadata": {
    "id": "TXVEUuSK8PPg"
   },
   "outputs": [],
   "source": [
    "## 79) Write a Python program to count the number of lines in a text file.\n",
    "def count_lines(filename):\n",
    "    with open(filename, \"r\") as file:\n",
    "        return sum(1 for line in file)\n",
    "\n",
    "print(count_lines(\"example.txt\"))"
   ]
  },
  {
   "cell_type": "code",
   "execution_count": null,
   "metadata": {
    "id": "sEMmJ2L_8T5Z"
   },
   "outputs": [],
   "source": [
    "## 80) Write a Python program to count the frequency of words in a file.\n",
    "from collections import Counter\n",
    "\n",
    "def word_frequency(filename):\n",
    "    with open(filename, \"r\") as file:\n",
    "        words = file.read().split()\n",
    "        return dict(Counter(words))\n",
    "\n",
    "print(word_frequency(\"example.txt\"))"
   ]
  },
  {
   "cell_type": "code",
   "execution_count": null,
   "metadata": {
    "id": "Vis3Ncky8Z5C"
   },
   "outputs": [],
   "source": [
    "## 81) Write a Python program to write a list to a file.\n",
    "\n",
    "my_list = [\"apple\", \"banana\", \"cherry\"]\n",
    "\n",
    "with open(\"example.txt\", \"w\") as file:\n",
    "    for item in my_list:\n",
    "        file.write(item + \"\\n\")"
   ]
  },
  {
   "cell_type": "code",
   "execution_count": null,
   "metadata": {
    "id": "5aOfXczH8gCO"
   },
   "outputs": [],
   "source": [
    "## 82) Write a Python program to copy the contents of a file to another file.\n",
    "\n",
    "with open(\"source.txt\", \"r\") as source, open(\"destination.txt\", \"w\") as destination:\n",
    "    destination.write(source.read())"
   ]
  },
  {
   "cell_type": "code",
   "execution_count": null,
   "metadata": {
    "id": "PTggkCkp85Fy"
   },
   "outputs": [],
   "source": [
    "## 85) When will the else part of try-except-else be executed?\n",
    "try:\n",
    "    print(\"Trying something\")\n",
    "except Exception as e:\n",
    "    print(\"Exception occurred:\", e)\n",
    "else:\n",
    "    print(\"No exception occurred.\")"
   ]
  },
  {
   "cell_type": "code",
   "execution_count": null,
   "metadata": {
    "id": "ok_z5O3P87xh"
   },
   "outputs": [],
   "source": [
    "## 86) Can one block of except statements handle multiple exceptions?\n",
    "\n",
    "try:\n",
    "    x = 1 / 0\n",
    "except (ZeroDivisionError, ValueError) as e:\n",
    "    print(f\"Exception occurred: {e}\")"
   ]
  },
  {
   "cell_type": "code",
   "execution_count": null,
   "metadata": {
    "colab": {
     "base_uri": "https://localhost:8080/"
    },
    "executionInfo": {
     "elapsed": 377,
     "status": "ok",
     "timestamp": 1734025238806,
     "user": {
      "displayName": "shrinath patel",
      "userId": "09096090491142038205"
     },
     "user_tz": -330
    },
    "id": "Crwk3Vnj9O4s",
    "outputId": "d88b718a-10f1-4c97-d479-163a2d6b6eab"
   },
   "outputs": [
    {
     "name": "stdout",
     "output_type": "stream",
     "text": [
      "Trying something\n",
      "This is always executed\n"
     ]
    }
   ],
   "source": [
    "## 87) When is the finally block executed?\n",
    "try:\n",
    "    print(\"Trying something\")\n",
    "except Exception:\n",
    "    print(\"Exception occurred\")\n",
    "finally:\n",
    "    print(\"This is always executed\")"
   ]
  },
  {
   "cell_type": "code",
   "execution_count": null,
   "metadata": {
    "colab": {
     "base_uri": "https://localhost:8080/"
    },
    "executionInfo": {
     "elapsed": 394,
     "status": "ok",
     "timestamp": 1734025277278,
     "user": {
      "displayName": "shrinath patel",
      "userId": "09096090491142038205"
     },
     "user_tz": -330
    },
    "id": "NGIUoLi39Yk5",
    "outputId": "e03d0502-cff2-4e74-ecae-ad56ff9cc8f6"
   },
   "outputs": [
    {
     "name": "stdout",
     "output_type": "stream",
     "text": [
      "True\n"
     ]
    }
   ],
   "source": [
    "# 88) What happens when 1 == 1 is executed?\n",
    "\n",
    "print(1 == 1)"
   ]
  },
  {
   "cell_type": "code",
   "execution_count": null,
   "metadata": {
    "colab": {
     "base_uri": "https://localhost:8080/"
    },
    "executionInfo": {
     "elapsed": 391,
     "status": "ok",
     "timestamp": 1734025302886,
     "user": {
      "displayName": "shrinath patel",
      "userId": "09096090491142038205"
     },
     "user_tz": -330
    },
    "id": "yGqjk6Tw9fyb",
    "outputId": "f15d8d56-bd58-4f7f-b87f-d06e1024594d"
   },
   "outputs": [
    {
     "name": "stdout",
     "output_type": "stream",
     "text": [
      "Cannot divide by zero!\n",
      "This will run regardless of whether an exception occurred.\n"
     ]
    }
   ],
   "source": [
    "## 89) How Do You Handle Exceptions with Try/Except/Finally in Python? Explain with coding snippets.\n",
    "try:\n",
    "    x = 1 / 0\n",
    "except ZeroDivisionError:\n",
    "    print(\"Cannot divide by zero!\")\n",
    "finally:\n",
    "    print(\"This will run regardless of whether an exception occurred.\")"
   ]
  },
  {
   "cell_type": "code",
   "execution_count": 1,
   "metadata": {
    "colab": {
     "base_uri": "https://localhost:8080/"
    },
    "executionInfo": {
     "elapsed": 4533,
     "status": "ok",
     "timestamp": 1734025330963,
     "user": {
      "displayName": "shrinath patel",
      "userId": "09096090491142038205"
     },
     "user_tz": -330
    },
    "id": "zqTyoITG9ly1",
    "outputId": "e5bcf07c-9a58-4f4c-9bd4-2dcb86a1cfbf"
   },
   "outputs": [
    {
     "ename": "KeyboardInterrupt",
     "evalue": "Interrupted by user",
     "output_type": "error",
     "traceback": [
      "\u001b[1;31m---------------------------------------------------------------------------\u001b[0m",
      "\u001b[1;31mKeyboardInterrupt\u001b[0m                         Traceback (most recent call last)",
      "Cell \u001b[1;32mIn[1], line 12\u001b[0m\n\u001b[0;32m      9\u001b[0m     \u001b[38;5;28;01mexcept\u001b[39;00m \u001b[38;5;167;01mValueError\u001b[39;00m \u001b[38;5;28;01mas\u001b[39;00m e:\n\u001b[0;32m     10\u001b[0m         \u001b[38;5;28mprint\u001b[39m(\u001b[38;5;124mf\u001b[39m\u001b[38;5;124m\"\u001b[39m\u001b[38;5;124mError: \u001b[39m\u001b[38;5;132;01m{\u001b[39;00me\u001b[38;5;132;01m}\u001b[39;00m\u001b[38;5;124m\"\u001b[39m)\n\u001b[1;32m---> 12\u001b[0m \u001b[43mask_for_odd_number\u001b[49m\u001b[43m(\u001b[49m\u001b[43m)\u001b[49m\n",
      "Cell \u001b[1;32mIn[1], line 4\u001b[0m, in \u001b[0;36mask_for_odd_number\u001b[1;34m()\u001b[0m\n\u001b[0;32m      2\u001b[0m \u001b[38;5;28;01mdef\u001b[39;00m\u001b[38;5;250m \u001b[39m\u001b[38;5;21mask_for_odd_number\u001b[39m():\n\u001b[0;32m      3\u001b[0m     \u001b[38;5;28;01mtry\u001b[39;00m:\n\u001b[1;32m----> 4\u001b[0m         num \u001b[38;5;241m=\u001b[39m \u001b[38;5;28mint\u001b[39m(\u001b[38;5;28;43minput\u001b[39;49m\u001b[43m(\u001b[49m\u001b[38;5;124;43m\"\u001b[39;49m\u001b[38;5;124;43mPlease enter an odd number: \u001b[39;49m\u001b[38;5;124;43m\"\u001b[39;49m\u001b[43m)\u001b[49m)\n\u001b[0;32m      5\u001b[0m         \u001b[38;5;28;01mif\u001b[39;00m num \u001b[38;5;241m%\u001b[39m \u001b[38;5;241m2\u001b[39m \u001b[38;5;241m==\u001b[39m \u001b[38;5;241m0\u001b[39m:\n\u001b[0;32m      6\u001b[0m             \u001b[38;5;28;01mraise\u001b[39;00m \u001b[38;5;167;01mValueError\u001b[39;00m(\u001b[38;5;124m\"\u001b[39m\u001b[38;5;124mThe number is not odd!\u001b[39m\u001b[38;5;124m\"\u001b[39m)\n",
      "File \u001b[1;32m~\\AppData\\Local\\Packages\\PythonSoftwareFoundation.Python.3.11_qbz5n2kfra8p0\\LocalCache\\local-packages\\Python311\\site-packages\\ipykernel\\kernelbase.py:1282\u001b[0m, in \u001b[0;36mKernel.raw_input\u001b[1;34m(self, prompt)\u001b[0m\n\u001b[0;32m   1280\u001b[0m     msg \u001b[38;5;241m=\u001b[39m \u001b[38;5;124m\"\u001b[39m\u001b[38;5;124mraw_input was called, but this frontend does not support input requests.\u001b[39m\u001b[38;5;124m\"\u001b[39m\n\u001b[0;32m   1281\u001b[0m     \u001b[38;5;28;01mraise\u001b[39;00m StdinNotImplementedError(msg)\n\u001b[1;32m-> 1282\u001b[0m \u001b[38;5;28;01mreturn\u001b[39;00m \u001b[38;5;28;43mself\u001b[39;49m\u001b[38;5;241;43m.\u001b[39;49m\u001b[43m_input_request\u001b[49m\u001b[43m(\u001b[49m\n\u001b[0;32m   1283\u001b[0m \u001b[43m    \u001b[49m\u001b[38;5;28;43mstr\u001b[39;49m\u001b[43m(\u001b[49m\u001b[43mprompt\u001b[49m\u001b[43m)\u001b[49m\u001b[43m,\u001b[49m\n\u001b[0;32m   1284\u001b[0m \u001b[43m    \u001b[49m\u001b[38;5;28;43mself\u001b[39;49m\u001b[38;5;241;43m.\u001b[39;49m\u001b[43m_parent_ident\u001b[49m\u001b[43m[\u001b[49m\u001b[38;5;124;43m\"\u001b[39;49m\u001b[38;5;124;43mshell\u001b[39;49m\u001b[38;5;124;43m\"\u001b[39;49m\u001b[43m]\u001b[49m\u001b[43m,\u001b[49m\n\u001b[0;32m   1285\u001b[0m \u001b[43m    \u001b[49m\u001b[38;5;28;43mself\u001b[39;49m\u001b[38;5;241;43m.\u001b[39;49m\u001b[43mget_parent\u001b[49m\u001b[43m(\u001b[49m\u001b[38;5;124;43m\"\u001b[39;49m\u001b[38;5;124;43mshell\u001b[39;49m\u001b[38;5;124;43m\"\u001b[39;49m\u001b[43m)\u001b[49m\u001b[43m,\u001b[49m\n\u001b[0;32m   1286\u001b[0m \u001b[43m    \u001b[49m\u001b[43mpassword\u001b[49m\u001b[38;5;241;43m=\u001b[39;49m\u001b[38;5;28;43;01mFalse\u001b[39;49;00m\u001b[43m,\u001b[49m\n\u001b[0;32m   1287\u001b[0m \u001b[43m\u001b[49m\u001b[43m)\u001b[49m\n",
      "File \u001b[1;32m~\\AppData\\Local\\Packages\\PythonSoftwareFoundation.Python.3.11_qbz5n2kfra8p0\\LocalCache\\local-packages\\Python311\\site-packages\\ipykernel\\kernelbase.py:1325\u001b[0m, in \u001b[0;36mKernel._input_request\u001b[1;34m(self, prompt, ident, parent, password)\u001b[0m\n\u001b[0;32m   1322\u001b[0m \u001b[38;5;28;01mexcept\u001b[39;00m \u001b[38;5;167;01mKeyboardInterrupt\u001b[39;00m:\n\u001b[0;32m   1323\u001b[0m     \u001b[38;5;66;03m# re-raise KeyboardInterrupt, to truncate traceback\u001b[39;00m\n\u001b[0;32m   1324\u001b[0m     msg \u001b[38;5;241m=\u001b[39m \u001b[38;5;124m\"\u001b[39m\u001b[38;5;124mInterrupted by user\u001b[39m\u001b[38;5;124m\"\u001b[39m\n\u001b[1;32m-> 1325\u001b[0m     \u001b[38;5;28;01mraise\u001b[39;00m \u001b[38;5;167;01mKeyboardInterrupt\u001b[39;00m(msg) \u001b[38;5;28;01mfrom\u001b[39;00m\u001b[38;5;250m \u001b[39m\u001b[38;5;28;01mNone\u001b[39;00m\n\u001b[0;32m   1326\u001b[0m \u001b[38;5;28;01mexcept\u001b[39;00m \u001b[38;5;167;01mException\u001b[39;00m:\n\u001b[0;32m   1327\u001b[0m     \u001b[38;5;28mself\u001b[39m\u001b[38;5;241m.\u001b[39mlog\u001b[38;5;241m.\u001b[39mwarning(\u001b[38;5;124m\"\u001b[39m\u001b[38;5;124mInvalid Message:\u001b[39m\u001b[38;5;124m\"\u001b[39m, exc_info\u001b[38;5;241m=\u001b[39m\u001b[38;5;28;01mTrue\u001b[39;00m)\n",
      "\u001b[1;31mKeyboardInterrupt\u001b[0m: Interrupted by user"
     ]
    }
   ],
   "source": [
    "## 90) Write a python program that asks the user to enter only odd numbers, else will raise an exception.\n",
    "def ask_for_odd_number():\n",
    "    try:\n",
    "        num = int(input(\"Please enter an odd number: \"))\n",
    "        if num % 2 == 0:\n",
    "            raise ValueError(\"The number is not odd!\")\n",
    "        else:\n",
    "            print(f\"Thank you! You entered {num}.\")\n",
    "    except ValueError as e:\n",
    "        print(f\"Error: {e}\")\n",
    "\n",
    "ask_for_odd_number()"
   ]
  }
 ],
 "metadata": {
  "colab": {
   "authorship_tag": "ABX9TyPaSvprzoywqZ7Z9xKwiGHl",
   "provenance": []
  },
  "kernelspec": {
   "display_name": "Python 3",
   "name": "python3"
  },
  "language_info": {
   "codemirror_mode": {
    "name": "ipython",
    "version": 3
   },
   "file_extension": ".py",
   "mimetype": "text/x-python",
   "name": "python",
   "nbconvert_exporter": "python",
   "pygments_lexer": "ipython3",
   "version": "3.11.9"
  }
 },
 "nbformat": 4,
 "nbformat_minor": 0
}
